{
 "cells": [
  {
   "cell_type": "code",
   "execution_count": 1,
   "metadata": {},
   "outputs": [],
   "source": [
    "import PyPDF2"
   ]
  },
  {
   "cell_type": "code",
   "execution_count": 3,
   "metadata": {},
   "outputs": [
    {
     "name": "stdout",
     "output_type": "stream",
     "text": [
      "5\n"
     ]
    }
   ],
   "source": [
    "filename = \"Birla-Empower-September-2022.pdf\"\n",
    "\n",
    "pdfFileObj = open('AMC factsheet/' + filename, 'rb')\n",
    "pdfReader = PyPDF2.PdfFileReader(pdfFileObj)\n",
    "print(pdfReader.numPages)"
   ]
  },
  {
   "cell_type": "code",
   "execution_count": 5,
   "metadata": {},
   "outputs": [
    {
     "name": "stdout",
     "output_type": "stream",
     "text": [
      "2https://www.facebook.com/abslmutualfund/https://twitter.com/abslmfhttps://mutualfund.adityabirlacapital.comINDEX\n",
      "Aditya Birla Sun Life Ni/fty 50 ETF75Aditya Birla Sun Life Ni/fty Next 50 ETF76Aditya Birla Sun Life S&P BSE Sensex ETF77Aditya Birla Sun Life Ni/fty Healthcare ETF78Aditya Birla Sun Life Ni/fty IT ETF79Aditya Birla Sun Life Silver ETF80Aditya Birla Sun Life Ni/fty 200 Momentum 30 ETF81Aditya Birla Sun Life Ni/fty 200 Quality 30 ETF82Aditya Birla Sun Life Silver ETF Fund of Fund83Aditya Birla Sun Life Global Excellence Equity Fund of Fund84Aditya Birla Sun Life NASDAQ 100 FOF85Aditya Birla Sun Life Asset Allocator FoF 86Aditya Birla Sun Life Financial Planning FOF-Aggressive Plan 87Aditya Birla Sun Life Business Cycle Fund88Tax Savings Solutions89Aditya Birla Sun Life Tax Relief ‘9690Aditya Birla Sun Life Tax Plan91Savings Solutions92Aditya Birla Sun Life Overnight Fund93Aditya Birla Sun Life Liquid Fund94Aditya Birla Sun Life Money Manager Fund95Aditya Birla Sun Life Low Duration Fund96Aditya Birla Sun Life Savings Fund97Aditya Birla Sun Life Floating Rate Fund98Aditya Birla Sun Life Arbitrage Fund99Aditya Birla Sun Life Corporate Bond Fund100Aditya Birla Sun Life Short Term Fund101Aditya Birla Sun Life Banking & PSU Debt Fund 102Aditya Birla Sun Life Medium Term Plan Number of Segregated Portfolios – 1103Aditya Birla Sun Life Credit Risk Fund Number of Segregated Portfolios – 1104Aditya Birla Sun Life Dynamic Bond Fund Number of Segregated Portfolios – 1105Aditya Birla Sun Life Income Fund106Aditya Birla Sun Life Government Securities Fund107Aditya Birla Sun Life Retirement Fund - The 50s Plus Debt Plan108Aditya Birla Sun Life NIFTY SDL Plus PSU Bond Sep 2026 60:40 Index Fund109Aditya Birla Sun Life Ni/fty SDL Apr 2027 Index Fund110Aditya Birla Sun Life CRISIL IBX 60:40 SDL + AAA PSU - Apr 2027 Index Fund111Aditya Birla Sun Life CRISIL IBX AAA - Jun 2023 Index Fund112Aditya Birla Sun Life CRISIL IBX 60:40 SDL + AAA PSU - Apr 2025 Index Fund113Aditya Birla Sun Life Active Debt Multi Manager FoF Scheme114Aditya Birla Sun Life Financial Planning FOF - Conservative Plan115Aditya Birla Sun Life Financial Planning FOF - Moderate Plan116Regular Income Solutions117Aditya Birla Sun Life Regular Savings Fund118Fund Manager Wise Scheme Details119Portfolios120Indust/r_y Allocation143Glossa/r_y Page148Foreword by Mr. Sidharth Damani03Equity Outlook by Mr. Vishal Gajwani04Debt Outlook by Mr. Harshil Suvarnkar05Potential Risk Class Matrix06Funds at a Glance & Product Labeling Disclosures07Tax Reckoner22Times of ABSLMF24Guide to PRO INVESTING31Diﬀerent Solutions To Suit Your Various Needs35Wealth Solutions36Aditya Birla Sun Life Equity Savings Fund37Aditya Birla Sun Life Balanced Advantage Fund38Aditya Birla Sun Life Equity Hybrid ‘95 Fund39Aditya Birla Sun Life Frontline Equity Fund40Aditya Birla Sun Life Focused Equity Fund41Aditya Birla Sun Life Flexi Cap Fund42Aditya Birla Sun Life Equity Advantage Fund43Aditya Birla Sun Life MNC Fund44Aditya Birla Sun Life Midcap Fund45Aditya Birla Sun Life Small Cap Fund46Aditya Birla Sun Life Multi-Cap Fund47Aditya Birla Sun Life Pure Value Fund48Aditya Birla Sun Life Manufacturing Equity Fund49Aditya Birla Sun Life Banking and Financial Services Fund50Aditya Birla Sun Life Dividend Yield Fund51Aditya Birla Sun Life Infrastructure Fund52Aditya Birla Sun Life Digital India Fund53Aditya Birla Sun Life India GenNext Fund54Aditya Birla Sun Life International Equity Fund - Plan A55Aditya Birla Sun Life International Equity Fund - Plan B56Aditya Birla Sun Life Commodity Equities Fund - Global Agri Plan57Aditya Birla Sun Life Global Emerging Opportunities Fund58Aditya Birla Sun Life Pharma & Healthcare Fund59Aditya Birla Sun Life Bal Bhavishya Yojna60Aditya Birla Sun Life Retirement Fund - The 30s Plan61Aditya Birla Sun Life Retirement Fund - The 40s Plan62Aditya Birla Sun Life Retirement Fund - The 50s Plan63Aditya Birla Sun Life PSU Equity Fund64Aditya Birla Sun Life Special Opportunities Fund65Aditya Birla Sun Life ESG Fund66Aditya Birla Sun Life Gold Fund67Aditya Birla Sun Life Ni/fty 50 Index Fund68Aditya Birla Sun Life Ni/fty Midcap 150 Index Fund69Aditya Birla Sun Life Ni/fty Smallcap 50 Index Fund70Aditya Birla Sun Life Ni/fty Next 50 Index Fund71Aditya Birla Sun Life Ni/fty 50 Equal Weight Index Fund72Aditya Birla Sun Life Gold ETF73Aditya Birla Sun Life Ni/fty Bank ETF74\n"
     ]
    }
   ],
   "source": [
    "# creating a page object\n",
    "pageObj = pdfReader.getPage(1)\n",
    "  \n",
    "# extracting text from page\n",
    "print(pageObj.extractText())"
   ]
  },
  {
   "cell_type": "code",
   "execution_count": null,
   "metadata": {},
   "outputs": [],
   "source": []
  }
 ],
 "metadata": {
  "kernelspec": {
   "display_name": "Python 3.10.2 64-bit",
   "language": "python",
   "name": "python3"
  },
  "language_info": {
   "codemirror_mode": {
    "name": "ipython",
    "version": 3
   },
   "file_extension": ".py",
   "mimetype": "text/x-python",
   "name": "python",
   "nbconvert_exporter": "python",
   "pygments_lexer": "ipython3",
   "version": "3.10.2"
  },
  "orig_nbformat": 4,
  "vscode": {
   "interpreter": {
    "hash": "aee8b7b246df8f9039afb4144a1f6fd8d2ca17a180786b69acc140d282b71a49"
   }
  }
 },
 "nbformat": 4,
 "nbformat_minor": 2
}
